{
  "cells": [
    {
      "cell_type": "markdown",
      "metadata": {},
      "source": [
        "# Geospatial Data Analysis Lab: Steel Plants Dataset\n",
        "\n",
        "\n",
        "**(15/10/2025) Learning Objectives:**\n",
        "- Perform exploratory data analysis (EDA) on geospatial datasets\n",
        "- Visualize geospatial data using interactive maps with Plotly\n",
        "- Merge environmental data with asset locations\n",
        "- Aggregate data at the company level\n",
        "- Integrate geospatial visualizations into a Streamlit dashboard\n",
        "\n",
        "---\n"
      ]
    },
    {
      "cell_type": "markdown",
      "metadata": {},
      "source": [
        "## Part 1: Setup and Data Loading\n",
        "\n",
        "Import the necessary libraries and load the steel plants dataset.\n"
      ]
    },
    {
      "cell_type": "code",
      "execution_count": 205,
      "metadata": {},
      "outputs": [],
      "source": [
        "# Import required libraries\n",
        "import pandas as pd\n",
        "import numpy as np\n",
        "import matplotlib.pyplot as plt\n",
        "import plotly.express as px\n",
        "import plotly.graph_objects as go"
      ]
    },
    {
      "cell_type": "code",
      "execution_count": 175,
      "metadata": {},
      "outputs": [],
      "source": [
        "# Load the steel plants dataset\n",
        "df_1 = pd.read_excel('steel_plants.xlsx', sheet_name='Plant data')\n",
        "df_1.to_csv('steel_plants.csv', index=False)\n",
        "df_1 = pd.read_csv('steel_plants.csv')"
      ]
    },
    {
      "cell_type": "code",
      "execution_count": 176,
      "metadata": {},
      "outputs": [],
      "source": [
        "df_2 = pd.read_excel('steel_plants.xlsx', sheet_name='Plant capacities and status')\n",
        "df_2.to_csv('steel_plants_capacity.csv', index=False)\n",
        "df_2 = pd.read_csv('steel_plants_capacity.csv')"
      ]
    },
    {
      "cell_type": "code",
      "execution_count": 177,
      "metadata": {},
      "outputs": [
        {
          "data": {
            "text/html": [
              "<div>\n",
              "<style scoped>\n",
              "    .dataframe tbody tr th:only-of-type {\n",
              "        vertical-align: middle;\n",
              "    }\n",
              "\n",
              "    .dataframe tbody tr th {\n",
              "        vertical-align: top;\n",
              "    }\n",
              "\n",
              "    .dataframe thead th {\n",
              "        text-align: right;\n",
              "    }\n",
              "</style>\n",
              "<table border=\"1\" class=\"dataframe\">\n",
              "  <thead>\n",
              "    <tr style=\"text-align: right;\">\n",
              "      <th></th>\n",
              "      <th>Plant ID</th>\n",
              "      <th>Plant name (English)_x</th>\n",
              "      <th>Plant name (other language)_x</th>\n",
              "      <th>Other plant names (English)</th>\n",
              "      <th>Other plant names (other language)</th>\n",
              "      <th>Owner</th>\n",
              "      <th>Owner (other language)</th>\n",
              "      <th>Owner GEM ID</th>\n",
              "      <th>Owner PermID</th>\n",
              "      <th>SOE Status</th>\n",
              "      <th>...</th>\n",
              "      <th>Start date_y</th>\n",
              "      <th>Nominal crude steel capacity (ttpa)</th>\n",
              "      <th>Nominal BOF steel capacity (ttpa)</th>\n",
              "      <th>Nominal EAF steel capacity (ttpa)</th>\n",
              "      <th>Nominal OHF steel capacity (ttpa)</th>\n",
              "      <th>Other/unspecified steel capacity (ttpa)</th>\n",
              "      <th>Nominal iron capacity (ttpa)</th>\n",
              "      <th>Nominal BF capacity (ttpa)</th>\n",
              "      <th>Nominal DRI capacity (ttpa)</th>\n",
              "      <th>Other/unspecified iron capacity (ttpa)</th>\n",
              "    </tr>\n",
              "  </thead>\n",
              "  <tbody>\n",
              "    <tr>\n",
              "      <th>1</th>\n",
              "      <td>P100000120439</td>\n",
              "      <td>Algerian Qatari Steel Jijel plant</td>\n",
              "      <td>الجزائرية القطرية للصلب</td>\n",
              "      <td>AQS</td>\n",
              "      <td>NaN</td>\n",
              "      <td>Algerian Qatari Steel</td>\n",
              "      <td>NaN</td>\n",
              "      <td>E100001000957</td>\n",
              "      <td>5076384326</td>\n",
              "      <td>Partial</td>\n",
              "      <td>...</td>\n",
              "      <td>2017</td>\n",
              "      <td>2200</td>\n",
              "      <td>NaN</td>\n",
              "      <td>2200</td>\n",
              "      <td>NaN</td>\n",
              "      <td>NaN</td>\n",
              "      <td>2500</td>\n",
              "      <td>NaN</td>\n",
              "      <td>2500</td>\n",
              "      <td>NaN</td>\n",
              "    </tr>\n",
              "    <tr>\n",
              "      <th>4</th>\n",
              "      <td>P100000121198</td>\n",
              "      <td>Ozmert Algeria steel plant</td>\n",
              "      <td>NaN</td>\n",
              "      <td>NaN</td>\n",
              "      <td>NaN</td>\n",
              "      <td>Ozmert Algeria SARL</td>\n",
              "      <td>NaN</td>\n",
              "      <td>E100001012196</td>\n",
              "      <td>unknown</td>\n",
              "      <td>NaN</td>\n",
              "      <td>...</td>\n",
              "      <td>unknown</td>\n",
              "      <td>800</td>\n",
              "      <td>NaN</td>\n",
              "      <td>800</td>\n",
              "      <td>NaN</td>\n",
              "      <td>NaN</td>\n",
              "      <td>500</td>\n",
              "      <td>NaN</td>\n",
              "      <td>500</td>\n",
              "      <td>NaN</td>\n",
              "    </tr>\n",
              "    <tr>\n",
              "      <th>5</th>\n",
              "      <td>P100000120440</td>\n",
              "      <td>Sider El Hadjar Annaba steel plant</td>\n",
              "      <td>مركب الحجار للحديد والصلب</td>\n",
              "      <td>ArcelorMittal Annaba (predecessor), El Hadjar ...</td>\n",
              "      <td>NaN</td>\n",
              "      <td>Groupe Industriel Sider SpA</td>\n",
              "      <td>NaN</td>\n",
              "      <td>E100001000960</td>\n",
              "      <td>5000941519</td>\n",
              "      <td>Full</td>\n",
              "      <td>...</td>\n",
              "      <td>1969</td>\n",
              "      <td>2150</td>\n",
              "      <td>350.0</td>\n",
              "      <td>1800</td>\n",
              "      <td>NaN</td>\n",
              "      <td>NaN</td>\n",
              "      <td>1500</td>\n",
              "      <td>1500</td>\n",
              "      <td>NaN</td>\n",
              "      <td>NaN</td>\n",
              "    </tr>\n",
              "    <tr>\n",
              "      <th>7</th>\n",
              "      <td>P100000120441</td>\n",
              "      <td>Tosyali Algerie Oran steel plant</td>\n",
              "      <td>شركة توسيالي الجزائرية التركية للحديد والصلب</td>\n",
              "      <td>NaN</td>\n",
              "      <td>Tosyali Algérie</td>\n",
              "      <td>Tosyali Ironsteel Industry Algerie SpA</td>\n",
              "      <td>NaN</td>\n",
              "      <td>E100000131071</td>\n",
              "      <td>5074196906</td>\n",
              "      <td>NaN</td>\n",
              "      <td>...</td>\n",
              "      <td>2013</td>\n",
              "      <td>6200</td>\n",
              "      <td>NaN</td>\n",
              "      <td>6200</td>\n",
              "      <td>NaN</td>\n",
              "      <td>NaN</td>\n",
              "      <td>5000</td>\n",
              "      <td>NaN</td>\n",
              "      <td>5000</td>\n",
              "      <td>NaN</td>\n",
              "    </tr>\n",
              "    <tr>\n",
              "      <th>8</th>\n",
              "      <td>P100000120005</td>\n",
              "      <td>Aceria Angola Bengo steel plant</td>\n",
              "      <td>NaN</td>\n",
              "      <td>ADA Steel</td>\n",
              "      <td>NaN</td>\n",
              "      <td>Ada - Aceria De Angola SA</td>\n",
              "      <td>NaN</td>\n",
              "      <td>E100000131097</td>\n",
              "      <td>unknown</td>\n",
              "      <td>NaN</td>\n",
              "      <td>...</td>\n",
              "      <td>2015</td>\n",
              "      <td>500</td>\n",
              "      <td>NaN</td>\n",
              "      <td>NaN</td>\n",
              "      <td>NaN</td>\n",
              "      <td>500</td>\n",
              "      <td>NaN</td>\n",
              "      <td>NaN</td>\n",
              "      <td>NaN</td>\n",
              "      <td>NaN</td>\n",
              "    </tr>\n",
              "  </tbody>\n",
              "</table>\n",
              "<p>5 rows × 58 columns</p>\n",
              "</div>"
            ],
            "text/plain": [
              "        Plant ID              Plant name (English)_x  \\\n",
              "1  P100000120439   Algerian Qatari Steel Jijel plant   \n",
              "4  P100000121198          Ozmert Algeria steel plant   \n",
              "5  P100000120440  Sider El Hadjar Annaba steel plant   \n",
              "7  P100000120441    Tosyali Algerie Oran steel plant   \n",
              "8  P100000120005     Aceria Angola Bengo steel plant   \n",
              "\n",
              "                  Plant name (other language)_x  \\\n",
              "1                       الجزائرية القطرية للصلب   \n",
              "4                                           NaN   \n",
              "5                     مركب الحجار للحديد والصلب   \n",
              "7  شركة توسيالي الجزائرية التركية للحديد والصلب   \n",
              "8                                           NaN   \n",
              "\n",
              "                         Other plant names (English)  \\\n",
              "1                                                AQS   \n",
              "4                                                NaN   \n",
              "5  ArcelorMittal Annaba (predecessor), El Hadjar ...   \n",
              "7                                                NaN   \n",
              "8                                          ADA Steel   \n",
              "\n",
              "  Other plant names (other language)                                   Owner  \\\n",
              "1                                NaN                   Algerian Qatari Steel   \n",
              "4                                NaN                     Ozmert Algeria SARL   \n",
              "5                                NaN             Groupe Industriel Sider SpA   \n",
              "7                    Tosyali Algérie  Tosyali Ironsteel Industry Algerie SpA   \n",
              "8                                NaN               Ada - Aceria De Angola SA   \n",
              "\n",
              "  Owner (other language)   Owner GEM ID Owner PermID SOE Status  ...  \\\n",
              "1                    NaN  E100001000957   5076384326    Partial  ...   \n",
              "4                    NaN  E100001012196      unknown        NaN  ...   \n",
              "5                    NaN  E100001000960   5000941519       Full  ...   \n",
              "7                    NaN  E100000131071   5074196906        NaN  ...   \n",
              "8                    NaN  E100000131097      unknown        NaN  ...   \n",
              "\n",
              "  Start date_y Nominal crude steel capacity (ttpa)  \\\n",
              "1         2017                                2200   \n",
              "4      unknown                                 800   \n",
              "5         1969                                2150   \n",
              "7         2013                                6200   \n",
              "8         2015                                 500   \n",
              "\n",
              "  Nominal BOF steel capacity (ttpa) Nominal EAF steel capacity (ttpa)  \\\n",
              "1                               NaN                              2200   \n",
              "4                               NaN                               800   \n",
              "5                             350.0                              1800   \n",
              "7                               NaN                              6200   \n",
              "8                               NaN                               NaN   \n",
              "\n",
              "  Nominal OHF steel capacity (ttpa) Other/unspecified steel capacity (ttpa)  \\\n",
              "1                               NaN                                     NaN   \n",
              "4                               NaN                                     NaN   \n",
              "5                               NaN                                     NaN   \n",
              "7                               NaN                                     NaN   \n",
              "8                               NaN                                     500   \n",
              "\n",
              "  Nominal iron capacity (ttpa) Nominal BF capacity (ttpa)  \\\n",
              "1                         2500                        NaN   \n",
              "4                          500                        NaN   \n",
              "5                         1500                       1500   \n",
              "7                         5000                        NaN   \n",
              "8                          NaN                        NaN   \n",
              "\n",
              "  Nominal DRI capacity (ttpa) Other/unspecified iron capacity (ttpa)  \n",
              "1                        2500                                    NaN  \n",
              "4                         500                                    NaN  \n",
              "5                         NaN                                    NaN  \n",
              "7                        5000                                    NaN  \n",
              "8                         NaN                                    NaN  \n",
              "\n",
              "[5 rows x 58 columns]"
            ]
          },
          "execution_count": 177,
          "metadata": {},
          "output_type": "execute_result"
        }
      ],
      "source": [
        "steel_plants = pd.merge(df_1, df_2, on='Plant ID')\n",
        "steel_plants = steel_plants[steel_plants['Status'] == 'operating']\n",
        "steel_plants.head()"
      ]
    },
    {
      "cell_type": "code",
      "execution_count": 178,
      "metadata": {},
      "outputs": [],
      "source": [
        "steel_plants[['lat','lon']] = steel_plants['Coordinates'].str.split(',', expand=True)\n",
        "steel_plants.drop(columns=['Coordinates'], inplace=True)\n",
        "\n",
        "steel_plants['lat'] = pd.to_numeric(steel_plants['lat'], errors='coerce')\n",
        "steel_plants['lon'] = pd.to_numeric(steel_plants['lon'], errors='coerce')"
      ]
    },
    {
      "cell_type": "code",
      "execution_count": 179,
      "metadata": {},
      "outputs": [],
      "source": [
        "steel_plants['Plant age (years)'] = pd.to_numeric(steel_plants['Plant age (years)'], errors='coerce')"
      ]
    },
    {
      "cell_type": "code",
      "execution_count": 180,
      "metadata": {},
      "outputs": [],
      "source": [
        "steel_plants['Nominal crude steel capacity (ttpa)'] = pd.to_numeric(\n",
        "    steel_plants['Nominal crude steel capacity (ttpa)'].astype(str).str.replace('[<>]', '', regex=True), \n",
        "    errors='coerce').fillna(0)"
      ]
    },
    {
      "cell_type": "markdown",
      "metadata": {},
      "source": [
        "---\n",
        "## Part 2: Exploratory Data Analysis (15 minutes)\n",
        "\n",
        "Answer the following questions through your analysis:\n"
      ]
    },
    {
      "cell_type": "markdown",
      "metadata": {},
      "source": [
        "### Question 1: Data Overview\n",
        "**Task:** Display basic information about the dataset.\n",
        "- How many steel plants are in the dataset?\n",
        "- What are the column names and data types?\n",
        "- Are there any missing values?\n"
      ]
    },
    {
      "cell_type": "code",
      "execution_count": 181,
      "metadata": {},
      "outputs": [
        {
          "data": {
            "text/plain": [
              "(868, 59)"
            ]
          },
          "execution_count": 181,
          "metadata": {},
          "output_type": "execute_result"
        }
      ],
      "source": [
        "# Display dataset shape\n",
        "steel_plants.shape"
      ]
    },
    {
      "cell_type": "code",
      "execution_count": 182,
      "metadata": {},
      "outputs": [
        {
          "name": "stdout",
          "output_type": "stream",
          "text": [
            "<class 'pandas.core.frame.DataFrame'>\n",
            "Index: 868 entries, 1 to 1742\n",
            "Data columns (total 59 columns):\n",
            " #   Column                                   Non-Null Count  Dtype  \n",
            "---  ------                                   --------------  -----  \n",
            " 0   Plant ID                                 868 non-null    object \n",
            " 1   Plant name (English)_x                   868 non-null    object \n",
            " 2   Plant name (other language)_x            533 non-null    object \n",
            " 3   Other plant names (English)              549 non-null    object \n",
            " 4   Other plant names (other language)       222 non-null    object \n",
            " 5   Owner                                    868 non-null    object \n",
            " 6   Owner (other language)                   411 non-null    object \n",
            " 7   Owner GEM ID                             868 non-null    object \n",
            " 8   Owner PermID                             868 non-null    object \n",
            " 9   SOE Status                               148 non-null    object \n",
            " 10  Parent                                   868 non-null    object \n",
            " 11  Parent GEM ID                            868 non-null    object \n",
            " 12  Parent PermID                            868 non-null    object \n",
            " 13  Location address                         868 non-null    object \n",
            " 14  Municipality                             868 non-null    object \n",
            " 15  Subnational unit (province/state)        868 non-null    object \n",
            " 16  Country/Area_x                           868 non-null    object \n",
            " 17  Region                                   868 non-null    object \n",
            " 18  Other language location address          323 non-null    object \n",
            " 19  Coordinate accuracy                      868 non-null    object \n",
            " 20  GEM wiki page                            868 non-null    object \n",
            " 21  Plant age (years)                        853 non-null    float64\n",
            " 22  Announced date                           868 non-null    object \n",
            " 23  Construction date                        868 non-null    object \n",
            " 24  Start date_x                             868 non-null    object \n",
            " 25  Pre-retirement announcement date         868 non-null    object \n",
            " 26  Idled date                               868 non-null    object \n",
            " 27  Retired date                             868 non-null    object \n",
            " 28  Ferronickel capacity (ttpa)              401 non-null    object \n",
            " 29  Sinter plant capacity (ttpa)             481 non-null    object \n",
            " 30  Coking plant capacity (ttpa)             406 non-null    object \n",
            " 31  Pelletizing plant capacity (ttpa)        475 non-null    object \n",
            " 32  Category steel product                   868 non-null    object \n",
            " 33  Steel products                           868 non-null    object \n",
            " 34  Steel sector end users                   868 non-null    object \n",
            " 35  Workforce size                           868 non-null    object \n",
            " 36  ISO 14001                                868 non-null    object \n",
            " 37  ISO 50001                                868 non-null    object \n",
            " 38  ResponsibleSteel Certification           868 non-null    object \n",
            " 39  Main production equipment                868 non-null    object \n",
            " 40  Power source                             868 non-null    object \n",
            " 41  Iron ore source                          867 non-null    object \n",
            " 42  Met coal source                          868 non-null    object \n",
            " 43  Plant name (English)_y                   868 non-null    object \n",
            " 44  Plant name (other language)_y            533 non-null    object \n",
            " 45  Country/Area_y                           868 non-null    object \n",
            " 46  Status                                   868 non-null    object \n",
            " 47  Start date_y                             868 non-null    object \n",
            " 48  Nominal crude steel capacity (ttpa)      868 non-null    float64\n",
            " 49  Nominal BOF steel capacity (ttpa)        299 non-null    float64\n",
            " 50  Nominal EAF steel capacity (ttpa)        525 non-null    object \n",
            " 51  Nominal OHF steel capacity (ttpa)        3 non-null      float64\n",
            " 52  Other/unspecified steel capacity (ttpa)  51 non-null     object \n",
            " 53  Nominal iron capacity (ttpa)             441 non-null    object \n",
            " 54  Nominal BF capacity (ttpa)               349 non-null    object \n",
            " 55  Nominal DRI capacity (ttpa)              122 non-null    object \n",
            " 56  Other/unspecified iron capacity (ttpa)   5 non-null      object \n",
            " 57  lat                                      868 non-null    float64\n",
            " 58  lon                                      868 non-null    float64\n",
            "dtypes: float64(6), object(53)\n",
            "memory usage: 406.9+ KB\n"
          ]
        }
      ],
      "source": [
        "# Display column information and data types\n",
        "steel_plants.info()"
      ]
    },
    {
      "cell_type": "code",
      "execution_count": 183,
      "metadata": {},
      "outputs": [
        {
          "data": {
            "text/plain": [
              "Plant ID                                     0\n",
              "Plant name (English)_x                       0\n",
              "Plant name (other language)_x              335\n",
              "Other plant names (English)                319\n",
              "Other plant names (other language)         646\n",
              "Owner                                        0\n",
              "Owner (other language)                     457\n",
              "Owner GEM ID                                 0\n",
              "Owner PermID                                 0\n",
              "SOE Status                                 720\n",
              "Parent                                       0\n",
              "Parent GEM ID                                0\n",
              "Parent PermID                                0\n",
              "Location address                             0\n",
              "Municipality                                 0\n",
              "Subnational unit (province/state)            0\n",
              "Country/Area_x                               0\n",
              "Region                                       0\n",
              "Other language location address            545\n",
              "Coordinate accuracy                          0\n",
              "GEM wiki page                                0\n",
              "Plant age (years)                           15\n",
              "Announced date                               0\n",
              "Construction date                            0\n",
              "Start date_x                                 0\n",
              "Pre-retirement announcement date             0\n",
              "Idled date                                   0\n",
              "Retired date                                 0\n",
              "Ferronickel capacity (ttpa)                467\n",
              "Sinter plant capacity (ttpa)               387\n",
              "Coking plant capacity (ttpa)               462\n",
              "Pelletizing plant capacity (ttpa)          393\n",
              "Category steel product                       0\n",
              "Steel products                               0\n",
              "Steel sector end users                       0\n",
              "Workforce size                               0\n",
              "ISO 14001                                    0\n",
              "ISO 50001                                    0\n",
              "ResponsibleSteel Certification               0\n",
              "Main production equipment                    0\n",
              "Power source                                 0\n",
              "Iron ore source                              1\n",
              "Met coal source                              0\n",
              "Plant name (English)_y                       0\n",
              "Plant name (other language)_y              335\n",
              "Country/Area_y                               0\n",
              "Status                                       0\n",
              "Start date_y                                 0\n",
              "Nominal crude steel capacity (ttpa)          0\n",
              "Nominal BOF steel capacity (ttpa)          569\n",
              "Nominal EAF steel capacity (ttpa)          343\n",
              "Nominal OHF steel capacity (ttpa)          865\n",
              "Other/unspecified steel capacity (ttpa)    817\n",
              "Nominal iron capacity (ttpa)               427\n",
              "Nominal BF capacity (ttpa)                 519\n",
              "Nominal DRI capacity (ttpa)                746\n",
              "Other/unspecified iron capacity (ttpa)     863\n",
              "lat                                          0\n",
              "lon                                          0\n",
              "dtype: int64"
            ]
          },
          "execution_count": 183,
          "metadata": {},
          "output_type": "execute_result"
        }
      ],
      "source": [
        "# Check for missing values\n",
        "steel_plants.isnull().sum()"
      ]
    },
    {
      "cell_type": "markdown",
      "metadata": {},
      "source": [
        "### Question 2: Statistical Summary\n",
        "**Task:** Generate descriptive statistics for numerical columns.\n",
        "- What is the average plant capacity?\n",
        "- What is the range of latitudes and longitudes?\n",
        "- What is the distribution of plant ages?\n"
      ]
    },
    {
      "cell_type": "code",
      "execution_count": 184,
      "metadata": {},
      "outputs": [
        {
          "name": "stdout",
          "output_type": "stream",
          "text": [
            "Average capacity plant capacity: 2309.4660368663594\n"
          ]
        }
      ],
      "source": [
        "# Average capacity plant capacity\n",
        "print(\"Average capacity plant capacity:\", steel_plants['Nominal crude steel capacity (ttpa)'].mean())"
      ]
    },
    {
      "cell_type": "code",
      "execution_count": 185,
      "metadata": {},
      "outputs": [
        {
          "name": "stdout",
          "output_type": "stream",
          "text": [
            "Lat range: -37.831379 66.311519\n",
            "Lon range: -123.163599 174.728098\n"
          ]
        }
      ],
      "source": [
        "# Range of lat and lon\n",
        "print(\"Lat range:\", steel_plants['lat'].min(), steel_plants['lat'].max())\n",
        "print(\"Lon range:\", steel_plants['lon'].min(), steel_plants['lon'].max())"
      ]
    },
    {
      "cell_type": "code",
      "execution_count": 212,
      "metadata": {},
      "outputs": [
        {
          "data": {
            "image/png": "[encoded data removed]",
            "text/plain": [
              "<Figure size 640x480 with 1 Axes>"
            ]
          },
          "metadata": {},
          "output_type": "display_data"
        }
      ],
      "source": [
        "# Distribution od plant age without label\n",
        "steel_plants['Plant age (years)'].hist(bins=20)\n",
        "plt.show()"
      ]
    },
    {
      "cell_type": "markdown",
      "metadata": {},
      "source": [
        "### Question 3: Geographic Distribution\n",
        "**Task:** Analyze the geographic distribution of steel plants.\n",
        "- Which countries/regions have the most steel plants?\n",
        "- What is the distribution of plants by company?\n"
      ]
    },
    {
      "cell_type": "code",
      "execution_count": 221,
      "metadata": {},
      "outputs": [
        {
          "name": "stdout",
          "output_type": "stream",
          "text": [
            "Country/Area_x\n",
            "China              289\n",
            "India               74\n",
            "United States       70\n",
            "Japan               38\n",
            "Iran                31\n",
            "                  ... \n",
            "Namibia              1\n",
            "New Zealand          1\n",
            "Nigeria              1\n",
            "North Macedonia      1\n",
            "Zimbabwe             1\n",
            "Name: count, Length: 80, dtype: int64\n"
          ]
        }
      ],
      "source": [
        "# Count plants by country\n",
        "print(steel_plants['Country/Area_x'].value_counts())"
      ]
    },
    {
      "cell_type": "code",
      "execution_count": 220,
      "metadata": {},
      "outputs": [
        {
          "name": "stdout",
          "output_type": "stream",
          "text": [
            "Region\n",
            "Asia Pacific               497\n",
            "Europe                     132\n",
            "North America               91\n",
            "Middle East                 51\n",
            "Central & South America     37\n",
            "Africa                      30\n",
            "Eurasia                     30\n",
            "Name: count, dtype: int64\n"
          ]
        }
      ],
      "source": [
        "# Count plants by region\n",
        "print(steel_plants['Region'].value_counts())"
      ]
    },
    {
      "cell_type": "code",
      "execution_count": 219,
      "metadata": {},
      "outputs": [
        {
          "name": "stdout",
          "output_type": "stream",
          "text": [
            "Parent\n",
            "Nucor Corp [100.0%]                                                                                                                                                                                           17\n",
            "ArcelorMittal SA [100.0%]                                                                                                                                                                                     15\n",
            "Nippon Steel Corp [100.0%]                                                                                                                                                                                    14\n",
            "Cleveland-Cliffs Inc [100.0%]                                                                                                                                                                                 10\n",
            "Commercial Metals Co [100.0%]                                                                                                                                                                                  8\n",
            "                                                                                                                                                                                                              ..\n",
            "Shanxi HUAQIANG Iron and Steel Co Ltd [100.0%]                                                                                                                                                                 1\n",
            "Shanxi HONGDA Iron and Steel Group Co Ltd [100.0%]                                                                                                                                                             1\n",
            "Shanxi Gaoyi Steel Co Ltd [100.0%]                                                                                                                                                                             1\n",
            "Baoshan Iron & Steel Co Ltd [77.0%]; China Development Bank Corp [9.1%]; The China Orient Asset Management Co Ltd [7.0%]; Nanjing State-Owned Assets Investment & Management Holding (Group) Co Ltd [6.8%]     1\n",
            "TSINGSHAN Holding Group Co Ltd [40.3%]; unknown [24.5%]; Shanghai Decent Investment (Group) Co Ltd [23.7%]; Zhejiang Qingshan Business Management Co Ltd [11.5%]                                               1\n",
            "Name: count, Length: 619, dtype: int64\n"
          ]
        }
      ],
      "source": [
        "# Count plants by company\n",
        "print(steel_plants['Parent'].value_counts())"
      ]
    },
    {
      "cell_type": "markdown",
      "metadata": {},
      "source": [
        "### Question 4: Capacity Analysis\n",
        "**Task:** Analyze the capacity distribution.\n",
        "- What is the total global steel production capacity?\n",
        "- Which companies have the highest total capacity?\n",
        "- How does capacity vary by region?\n"
      ]
    },
    {
      "cell_type": "code",
      "execution_count": 217,
      "metadata": {},
      "outputs": [
        {
          "name": "stdout",
          "output_type": "stream",
          "text": [
            "Total capacity: 2004616.52\n"
          ]
        }
      ],
      "source": [
        "# Calculate total capacity\n",
        "print(\"Total capacity:\", steel_plants['Nominal crude steel capacity (ttpa)'].sum())"
      ]
    },
    {
      "cell_type": "code",
      "execution_count": 218,
      "metadata": {},
      "outputs": [
        {
          "name": "stdout",
          "output_type": "stream",
          "text": [
            "Parent\n",
            "Nippon Steel Corp [100.0%]                                                                             54783.0\n",
            "POSCO Holdings Inc [100.0%]                                                                            41700.0\n",
            "Baoshan Iron & Steel Co Ltd [100.0%]                                                                   35707.0\n",
            "JSW Steel Ltd [100.0%]                                                                                 33159.0\n",
            "ArcelorMittal SA [100.0%]                                                                              31001.0\n",
            "                                                                                                        ...   \n",
            "WISCO Group Kunming Steel Co Ltd [100.0%]                                                                  0.0\n",
            "Wuxi Xinsanzhou Special Steel Co Ltd [100.0%]                                                              0.0\n",
            "China Baowu Steel Group Co Ltd [48.4%]; Kunming Iron & Steel Holding Co Ltd [40.3%]; unknown [4.2%]        0.0\n",
            "Bank of Industry and Mine (Iran); Tourism Financial Group                                                  0.0\n",
            "Civil Pension Fund Investment Co                                                                           0.0\n",
            "Name: Nominal crude steel capacity (ttpa), Length: 619, dtype: float64\n"
          ]
        }
      ],
      "source": [
        "# Group by company and sum capacity\n",
        "print(steel_plants.groupby('Parent')['Nominal crude steel capacity (ttpa)'].sum().sort_values(ascending=False))"
      ]
    },
    {
      "cell_type": "markdown",
      "metadata": {},
      "source": [
        "---\n",
        "## Part 3: Geospatial Visualization with Plotly (15 minutes)\n",
        "\n",
        "Create interactive maps to visualize the steel plants' locations and characteristics.\n"
      ]
    },
    {
      "cell_type": "markdown",
      "metadata": {},
      "source": [
        "### Exercise 1: Basic Scatter Map\n",
        "**Task:** Create a scatter map showing all steel plant locations.\n",
        "- Use latitude and longitude for positioning\n",
        "- Color points by country or region\n",
        "- Add hover information showing plant name, company, and capacity\n"
      ]
    },
    {
      "cell_type": "code",
      "execution_count": 228,
      "metadata": {},
      "outputs": [],
      "source": [
        "# Create a scatter_geo or scatter_mapbox plot\n",
        "# Hint: Use plotly.express.scatter_geo() or scatter_mapbox()"
      ]
    },
    {
      "cell_type": "markdown",
      "metadata": {},
      "source": [
        "### Exercise 2: Sized Markers by Capacity\n",
        "**Task:** Create a map where marker size represents plant capacity.\n",
        "- Larger markers for higher capacity plants\n",
        "- Color by company\n",
        "- Include interactive hover details\n"
      ]
    },
    {
      "cell_type": "code",
      "execution_count": 193,
      "metadata": {},
      "outputs": [],
      "source": [
        "# Create scatter map with size parameter based on capacity\n",
        "\n"
      ]
    },
    {
      "cell_type": "markdown",
      "metadata": {},
      "source": [
        "### Exercise 3: Density Heatmap\n",
        "**Task:** Create a density map showing concentration of steel plants.\n",
        "- Use Plotly's density_mapbox to show clustering\n",
        "- Identify regions with high plant density\n"
      ]
    },
    {
      "cell_type": "code",
      "execution_count": 194,
      "metadata": {},
      "outputs": [],
      "source": [
        "# Create density heatmap\n",
        "# Hint: Use plotly.express.density_mapbox()\n",
        "\n"
      ]
    },
    {
      "cell_type": "markdown",
      "metadata": {},
      "source": [
        "---\n",
        "## Part 4: Merging Environmental Data with Assets\n",
        "\n",
        "Integrate environmental data (e.g., air quality, emissions, proximity to water sources) with steel plant locations.\n"
      ]
    },
    {
      "cell_type": "markdown",
      "metadata": {},
      "source": [
        "### Exercise 1: Load Environmental Data\n",
        "**Task:** Load the environmental dataset and inspect it.\n",
        "\n",
        "- [Litpop database](https://www.research-collection.ethz.ch/entities/researchdata/12dcfc4f-9d03-463a-8d6b-76c0dc73cdc8)\n",
        "\n",
        "- Expected columns: location_id, latitude, longitude, population density, activity etc.\n"
      ]
    },
    {
      "cell_type": "code",
      "execution_count": 195,
      "metadata": {},
      "outputs": [],
      "source": [
        "# Load environmental data\n",
        "\n"
      ]
    },
    {
      "cell_type": "code",
      "execution_count": 196,
      "metadata": {},
      "outputs": [],
      "source": [
        "# Inspect environmental data\n",
        "\n"
      ]
    },
    {
      "cell_type": "markdown",
      "metadata": {},
      "source": [
        "### Exercise 2: Spatial Join or Nearest Neighbor Matching\n",
        "**Task:** Merge environmental data with steel plants based on geographic proximity.\n",
        "- Use nearest neighbor matching or spatial join\n",
        "- Consider using geopandas for distance calculations\n",
        "- Match each plant to the nearest environmental monitoring station\n"
      ]
    },
    {
      "cell_type": "code",
      "execution_count": 197,
      "metadata": {},
      "outputs": [],
      "source": [
        "# Calculate distances or perform spatial join\n",
        "# Hint: You might calculate haversine distance or use a spatial library\n",
        "\n"
      ]
    },
    {
      "cell_type": "code",
      "execution_count": 198,
      "metadata": {},
      "outputs": [],
      "source": [
        "# Merge datasets\n",
        "\n"
      ]
    },
    {
      "cell_type": "markdown",
      "metadata": {},
      "source": [
        "### Exercise 3: Visualize Merged Data\n",
        "**Task:** Create a map showing steel plants colored by environmental metrics.\n",
        "- Color plants by air quality index or other environmental indicators\n",
        "- Size by capacity\n",
        "- Add hover details with both plant and environmental information\n"
      ]
    },
    {
      "cell_type": "code",
      "execution_count": 199,
      "metadata": {},
      "outputs": [],
      "source": [
        "# Create visualization of merged data\n",
        "\n"
      ]
    },
    {
      "cell_type": "markdown",
      "metadata": {},
      "source": [
        "---\n",
        "## Part 5: Company-Level Aggregation\n",
        "\n",
        "Aggregate data at the company level to analyze corporate footprints.\n"
      ]
    },
    {
      "cell_type": "markdown",
      "metadata": {},
      "source": [
        "### Exercise 1: Aggregate Metrics by Company\n",
        "**Task:** Group plants by company and calculate aggregate metrics.\n",
        "- Total capacity per company\n",
        "- Number of plants per company\n",
        "- Average environmental metrics per company\n",
        "- Geographic spread (e.g., number of countries)\n"
      ]
    },
    {
      "cell_type": "code",
      "execution_count": 200,
      "metadata": {},
      "outputs": [],
      "source": [
        "# Group by company and aggregate\n",
        "\n"
      ]
    },
    {
      "cell_type": "markdown",
      "metadata": {},
      "source": [
        "### Exercise 2: Company Headquarters or Centroid\n",
        "**Task:** Calculate a representative location for each company.\n",
        "- Option 1: Use the centroid of all plant locations\n",
        "- Option 2: Use the location of the largest plant\n",
        "- Option 3: Assign actual headquarters coordinates\n"
      ]
    },
    {
      "cell_type": "code",
      "execution_count": 201,
      "metadata": {},
      "outputs": [],
      "source": [
        "# Calculate company representative locations\n",
        "\n"
      ]
    },
    {
      "cell_type": "markdown",
      "metadata": {},
      "source": [
        "### Exercise 3: Visualize Company-Level Data\n",
        "**Task:** Create a map showing companies with aggregated metrics.\n",
        "- Show one marker per company at the representative location\n",
        "- Size by total capacity\n",
        "- Color by average environmental impact\n",
        "- Hover information with company summary statistics\n"
      ]
    },
    {
      "cell_type": "code",
      "execution_count": 202,
      "metadata": {},
      "outputs": [],
      "source": [
        "# Create company-level visualization\n",
        "\n"
      ]
    },
    {
      "cell_type": "markdown",
      "metadata": {},
      "source": [
        "---\n",
        "## Part 6: Streamlit Dashboard Integration\n",
        "\n",
        "Prepare your visualizations for deployment in a Streamlit dashboard.\n"
      ]
    },
    {
      "cell_type": "markdown",
      "metadata": {},
      "source": [
        "### Exercise 1: Create Dashboard Script Structure\n",
        "**Task:** Create a Streamlit app file (`dashboard.py`) with the following structure:\n",
        "\n",
        "```python\n",
        "# Import streamlit and other necessary libraries\n",
        "\n",
        "# Set page configuration\n",
        "\n",
        "# Title and description\n",
        "\n",
        "# Sidebar for filters\n",
        "# - Company selector\n",
        "# - Region/country filter\n",
        "# - Capacity range slider\n",
        "\n",
        "# Main content area\n",
        "# - KPI metrics (total plants, total capacity, etc.)\n",
        "# - Interactive map\n",
        "# - Data table\n",
        "\n",
        "# Footer with data sources and notes\n",
        "```\n"
      ]
    },
    {
      "cell_type": "markdown",
      "metadata": {},
      "source": [
        "### Exercise 1: Prepare Data for Dashboard\n",
        "**Task:** Save your processed data to files that the dashboard will load.\n",
        "- Export cleaned plant data\n",
        "- Export merged environmental data\n",
        "- Export company-level aggregations\n",
        "- Save as CSV or Parquet for efficient loading\n"
      ]
    },
    {
      "cell_type": "code",
      "execution_count": 203,
      "metadata": {},
      "outputs": [],
      "source": [
        "# Save processed datasets\n",
        "\n"
      ]
    },
    {
      "cell_type": "markdown",
      "metadata": {},
      "source": [
        "### Exercise 2: Display relevant information from your exploratory analysis into the dashboard"
      ]
    },
    {
      "cell_type": "code",
      "execution_count": 204,
      "metadata": {},
      "outputs": [],
      "source": [
        "# This cell is for notes/observations about your dashboard\n",
        "# What works well?\n",
        "# What could be improved?\n",
        "# Any performance issues with large datasets?\n",
        "\n"
      ]
    },
    {
      "cell_type": "markdown",
      "metadata": {},
      "source": [
        "---\n",
        "## Lab Summary and Key Takeaways\n",
        "\n",
        "**What you learned:**\n",
        "- How to perform EDA on geospatial datasets\n",
        "- Creating interactive maps with Plotly for geospatial data\n",
        "- Merging spatial datasets based on geographic proximity\n",
        "- Aggregating geospatial data at different levels (asset vs. company)\n",
        "- Building interactive dashboards with Streamlit\n",
        "\n",
        "**Next Steps:**\n",
        "- Explore other geospatial libraries (GeoPandas, Folium, Kepler.gl)\n",
        "- Learn about coordinate reference systems (CRS) and projections\n",
        "- Practice with other datasets (buildings, utilities, transportation)\n",
        "- Deploy your dashboard to Streamlit Cloud or other hosting services\n"
      ]
    }
  ],
  "metadata": {
    "kernelspec": {
      "display_name": "pyenv",
      "language": "python",
      "name": "python3"
    },
    "language_info": {
      "codemirror_mode": {
        "name": "ipython",
        "version": 3
      },
      "file_extension": ".py",
      "mimetype": "text/x-python",
      "name": "python",
      "nbconvert_exporter": "python",
      "pygments_lexer": "ipython3",
      "version": "3.13.7"
    }
  },
  "nbformat": 4,
  "nbformat_minor": 2
}
